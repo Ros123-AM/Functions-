{
  "nbformat": 4,
  "nbformat_minor": 0,
  "metadata": {
    "colab": {
      "provenance": []
    },
    "kernelspec": {
      "name": "python3",
      "display_name": "Python 3"
    },
    "language_info": {
      "name": "python"
    }
  },
  "cells": [
    {
      "cell_type": "markdown",
      "source": [
        "# FUNCTIONS"
      ],
      "metadata": {
        "id": "8lXXs14UWW-H"
      }
    },
    {
      "cell_type": "markdown",
      "source": [
        "1.  What is the difference between a function and a method in Python?"
      ],
      "metadata": {
        "id": "o4A7ixu_WamO"
      }
    },
    {
      "cell_type": "markdown",
      "source": [
        "Ans- Function -                                                                \n",
        "             A function is a block of code that performs a specific task and can be called independently.\n",
        "- It is defined using the def keyword.\n",
        "- Functions can take parameters, return values, and can be called from anywhere in the program (provided they are in scope).\n",
        "- Functions are not tied to any particular object or class.\n",
        "              "
      ],
      "metadata": {
        "id": "zWv_OMCvWedG"
      }
    },
    {
      "cell_type": "code",
      "source": [
        "def greet(name):\n",
        "    return f\"Hello, {name}!\"\n",
        "\n",
        "print(greet(\"Roshan\"))  # Output: Hello, Roshan!\n"
      ],
      "metadata": {
        "colab": {
          "base_uri": "https://localhost:8080/"
        },
        "id": "kQQeMNOHWqrU",
        "outputId": "0ea94c5e-45ce-489e-f17f-0a7ea0d0155a"
      },
      "execution_count": 3,
      "outputs": [
        {
          "output_type": "stream",
          "name": "stdout",
          "text": [
            "Hello, Roshan!\n"
          ]
        }
      ]
    },
    {
      "cell_type": "markdown",
      "source": [
        "Method -                                                                       \n",
        "   A method is a function that is associated with an object (an instance of a class) or the class itself.\n",
        "\n",
        " - It is defined inside a class and is used to operate on the data that belongs to that class (i.e., the object).\n",
        " - A method always takes at least one parameter: self (for instance methods), which refers to the instance of the class.\n",
        " - Methods are called using the dot (.) notation on an object or class."
      ],
      "metadata": {
        "id": "m0jwCw9YXX5g"
      }
    },
    {
      "cell_type": "code",
      "source": [
        "class Person:\n",
        "    def __init__(self, name):\n",
        "        self.name = name\n",
        "\n",
        "    def greet(self):\n",
        "        return f\"Hello, {self.name}!\"\n",
        "\n",
        "person = Person(\"Roshan\")\n",
        "print(person.greet())  # Output: Hello, Roshan !\n"
      ],
      "metadata": {
        "colab": {
          "base_uri": "https://localhost:8080/"
        },
        "id": "eWeAoQp7Xviy",
        "outputId": "5af7c0c1-8eb6-4f0b-f151-cb80d5145a46"
      },
      "execution_count": 6,
      "outputs": [
        {
          "output_type": "stream",
          "name": "stdout",
          "text": [
            "Hello, Roshan!\n"
          ]
        }
      ]
    },
    {
      "cell_type": "markdown",
      "source": [
        "2.  Explain the concept of function arguments and parameters in Python?"
      ],
      "metadata": {
        "id": "bqQc1F6IX8MY"
      }
    },
    {
      "cell_type": "markdown",
      "source": [
        "Ans- Function Arguments-                                                       \n",
        "- Arguments are the actual values or expressions that are passed to a function when it is called.\n",
        "- They correspond to the function's parameters, and these values are used inside the function.\n",
        "- example- Positional Arguments, Keyword Arguments, Default Arguments, Variable-Length Arguments,"
      ],
      "metadata": {
        "id": "gb1G-eaDYCQm"
      }
    },
    {
      "cell_type": "code",
      "source": [
        "print(greet(\"Roshan\"))  # \"Roshan\" is the argument\n"
      ],
      "metadata": {
        "colab": {
          "base_uri": "https://localhost:8080/"
        },
        "id": "Or_dTw9YYsSU",
        "outputId": "96d2e035-c575-4ffb-cdbf-1d216d51333f"
      },
      "execution_count": 7,
      "outputs": [
        {
          "output_type": "stream",
          "name": "stdout",
          "text": [
            "Hello, Roshan!\n"
          ]
        }
      ]
    },
    {
      "cell_type": "markdown",
      "source": [
        "Function Parameters -                                                          \n",
        "- Parameters are the variables defined in the function's signature (i.e., the function definition).\n",
        "- They act as placeholders for the values that will be passed to the function when it is called.\n",
        "- They are used inside the function to work with the values that the caller provides."
      ],
      "metadata": {
        "id": "V6CTRUt7Yz0G"
      }
    },
    {
      "cell_type": "code",
      "source": [
        "def greet(name):  # 'name' is the parameter\n",
        "    return f\"Hello, {name}!\"\n"
      ],
      "metadata": {
        "id": "cmXJcwzXZEFn"
      },
      "execution_count": 8,
      "outputs": []
    },
    {
      "cell_type": "code",
      "source": [
        "greet(\"Roshan\")"
      ],
      "metadata": {
        "colab": {
          "base_uri": "https://localhost:8080/",
          "height": 36
        },
        "id": "gUUmyZzEZJI6",
        "outputId": "dcdb8264-7890-4609-ae4d-bb11232786a6"
      },
      "execution_count": 11,
      "outputs": [
        {
          "output_type": "execute_result",
          "data": {
            "text/plain": [
              "'Hello, Roshan!'"
            ],
            "application/vnd.google.colaboratory.intrinsic+json": {
              "type": "string"
            }
          },
          "metadata": {},
          "execution_count": 11
        }
      ]
    },
    {
      "cell_type": "markdown",
      "source": [
        "3. What are the different ways to define and call a function in Python?"
      ],
      "metadata": {
        "id": "kTAU8KDEZbUH"
      }
    },
    {
      "cell_type": "markdown",
      "source": [
        "Ans- a. Function with Parameters                                              \n",
        "- Functions can be defined to accept parameters (inputs) when called. The parameters are listed in the function definition."
      ],
      "metadata": {
        "id": "7AosFvzcZhz_"
      }
    },
    {
      "cell_type": "code",
      "source": [
        "def greet(name):\n",
        "    print(f\"Hello, {name}!\")\n"
      ],
      "metadata": {
        "id": "PrHWuAXAZ8pV"
      },
      "execution_count": 12,
      "outputs": []
    },
    {
      "cell_type": "code",
      "source": [
        "greet(\"Roshan\")"
      ],
      "metadata": {
        "colab": {
          "base_uri": "https://localhost:8080/"
        },
        "id": "ORPK904qZ-75",
        "outputId": "c97c5bec-2963-4a86-b3b9-884d835b0492"
      },
      "execution_count": 13,
      "outputs": [
        {
          "output_type": "stream",
          "name": "stdout",
          "text": [
            "Hello, Roshan!\n"
          ]
        }
      ]
    },
    {
      "cell_type": "markdown",
      "source": [
        "b.Defining and Calling a Simple Function                                       \n",
        "- You define a function using the def keyword, followed by the function name and parameters (if any). The function body contains the code to be executed."
      ],
      "metadata": {
        "id": "Dj8npIK8aDI-"
      }
    },
    {
      "cell_type": "code",
      "source": [
        "def greet():\n",
        "    print(\"Hello, world!\")\n"
      ],
      "metadata": {
        "id": "Xmr-jGr4ar9o"
      },
      "execution_count": 14,
      "outputs": []
    },
    {
      "cell_type": "code",
      "source": [
        "greet()"
      ],
      "metadata": {
        "colab": {
          "base_uri": "https://localhost:8080/"
        },
        "id": "vCNRhtYTawNw",
        "outputId": "e4c37045-8a59-48fd-a3ce-af532ac1c9f3"
      },
      "execution_count": 15,
      "outputs": [
        {
          "output_type": "stream",
          "name": "stdout",
          "text": [
            "Hello, world!\n"
          ]
        }
      ]
    },
    {
      "cell_type": "markdown",
      "source": [
        "c. Function with Return Value                                                  \n",
        "- A function can return a value using the return keyword. This allows the function to give back some output that can be stored or used later."
      ],
      "metadata": {
        "id": "PV0Vk43nazDn"
      }
    },
    {
      "cell_type": "code",
      "source": [
        "def add(a, b):\n",
        "    return a + b\n"
      ],
      "metadata": {
        "id": "MTVFc23obCQr"
      },
      "execution_count": 16,
      "outputs": []
    },
    {
      "cell_type": "code",
      "source": [
        "add(3,2)"
      ],
      "metadata": {
        "colab": {
          "base_uri": "https://localhost:8080/"
        },
        "id": "JEZN6S1lbEvE",
        "outputId": "3869f728-e948-44fc-8283-715bfaf8b8d2"
      },
      "execution_count": 17,
      "outputs": [
        {
          "output_type": "execute_result",
          "data": {
            "text/plain": [
              "5"
            ]
          },
          "metadata": {},
          "execution_count": 17
        }
      ]
    },
    {
      "cell_type": "markdown",
      "source": [
        "d. Function with Default Parameters                                           \n",
        "- Functions can have parameters with default values. If an argument is not provided for such a parameter when calling the function, the default value is used."
      ],
      "metadata": {
        "id": "_C5MO65VbHSY"
      }
    },
    {
      "cell_type": "code",
      "source": [
        "def greet(name=\"Guest\"):\n",
        "    print(f\"Hello, {name}!\")\n"
      ],
      "metadata": {
        "id": "1SF_Z4ombRgP"
      },
      "execution_count": 18,
      "outputs": []
    },
    {
      "cell_type": "code",
      "source": [
        "greet(\"Roshan\")"
      ],
      "metadata": {
        "colab": {
          "base_uri": "https://localhost:8080/"
        },
        "id": "wFeYvHvBbTxr",
        "outputId": "f9c42e51-4f66-4c43-cb72-0ff4073cd10a"
      },
      "execution_count": 19,
      "outputs": [
        {
          "output_type": "stream",
          "name": "stdout",
          "text": [
            "Hello, Roshan!\n"
          ]
        }
      ]
    },
    {
      "cell_type": "markdown",
      "source": [
        "4.  What is the purpose of the `return` statement in a Python function?\n",
        "\n"
      ],
      "metadata": {
        "id": "oS9Z_aWEbb83"
      }
    },
    {
      "cell_type": "markdown",
      "source": [
        "Ans- In Python, the return statement serves two key purposes inside a function:\n",
        "- Ending the Function: When the Python interpreter encounters a return statement, it stops executing the code inside the function and returns control to the place where the function was called.\n",
        "- Returning a Value: The return statement can send a value (like a number, string, or list) back to the caller. If no value is specified, Python will return None by default."
      ],
      "metadata": {
        "id": "3PFG1WcTbhMv"
      }
    },
    {
      "cell_type": "code",
      "source": [
        "def multiply(x, y):\n",
        "    result = x * y\n",
        "    return result  # Sends the result back to the caller\n",
        "\n",
        "output = multiply(4, 6)\n",
        "print(output)  # Output: 24\n"
      ],
      "metadata": {
        "colab": {
          "base_uri": "https://localhost:8080/"
        },
        "id": "exZ1-G4ab6wx",
        "outputId": "a80feffa-5e71-4ec3-ceb4-6ba5b196c654"
      },
      "execution_count": 20,
      "outputs": [
        {
          "output_type": "stream",
          "name": "stdout",
          "text": [
            "24\n"
          ]
        }
      ]
    },
    {
      "cell_type": "markdown",
      "source": [
        "5.  What are iterators in Python and how do they differ from iterables?"
      ],
      "metadata": {
        "id": "GbDVEz22b_WC"
      }
    },
    {
      "cell_type": "markdown",
      "source": [
        "Ans - a. iterables -                                                          \n",
        "An iterable is any object in Python that can return an iterator. Essentially, an iterable is something you can loop over (e.g., lists, strings, tuples, dictionaries, etc.). An iterable object has a method called __iter__() that returns an iterator.                                                        \n",
        " Characteristics of Iterables:                                         \n",
        " - Can be looped over: You can use a for loop to iterate over it.\n",
        " - Has an __iter__() method: This is the key method that allows the object to produce an iterator."
      ],
      "metadata": {
        "id": "DI617aGucGLX"
      }
    },
    {
      "cell_type": "code",
      "source": [
        "# Iterable example\n",
        "my_list = [10, 20, 30]\n",
        "\n",
        "# Create an iterator\n",
        "my_iterator = iter(my_list)\n",
        "\n",
        "# Iterate manually using next()\n",
        "print(next(my_iterator))  # Output: 10\n",
        "print(next(my_iterator))  # Output: 20\n",
        "print(next(my_iterator))  # Output: 30\n",
        "\n",
        "# After exhaustion, calling next() will raise StopIteration\n",
        "# print(next(my_iterator))  # Raises StopIteration\n"
      ],
      "metadata": {
        "colab": {
          "base_uri": "https://localhost:8080/"
        },
        "id": "DKahdCAOcs6E",
        "outputId": "366cd8de-c858-4bcf-e16e-1f594fba2785"
      },
      "execution_count": 21,
      "outputs": [
        {
          "output_type": "stream",
          "name": "stdout",
          "text": [
            "10\n",
            "20\n",
            "30\n"
          ]
        }
      ]
    },
    {
      "cell_type": "markdown",
      "source": [
        "iterators -                                                      \n",
        "An iterator is an object that actually performs the iteration over the iterable. It keeps track of the current position while iterating and knows how to fetch the next item.\n",
        "- An iterator must implement two methods:\n",
        " - __iter__(): Returns the iterator itself (this is why all iterators are also iterables).\n",
        " - __next__(): Returns the next item in the sequence. When there are no more items left, it raises the StopIteration exception to signal the end of the iteration.            \n"
      ],
      "metadata": {
        "id": "gnEu6ILNdVWv"
      }
    },
    {
      "cell_type": "code",
      "source": [
        "# Example of an iterable (list)\n",
        "my_list = [1, 2, 3]\n",
        "\n",
        "# Getting an iterator from the list\n",
        "my_iterator = iter(my_list)\n",
        "\n",
        "# Using next() to access elements\n",
        "print(next(my_iterator))  # Output: 1\n",
        "print(next(my_iterator))  # Output: 2\n",
        "print(next(my_iterator))  # Output: 3\n"
      ],
      "metadata": {
        "colab": {
          "base_uri": "https://localhost:8080/"
        },
        "id": "6slNQHhxdtsZ",
        "outputId": "ec634faf-7dce-412e-f3ec-0707fe7dc686"
      },
      "execution_count": 22,
      "outputs": [
        {
          "output_type": "stream",
          "name": "stdout",
          "text": [
            "1\n",
            "2\n",
            "3\n"
          ]
        }
      ]
    },
    {
      "cell_type": "markdown",
      "source": [
        "6.  Explain the concept of generators in Python and how they are defined."
      ],
      "metadata": {
        "id": "waJxBHBTdzig"
      }
    },
    {
      "cell_type": "markdown",
      "source": [
        "Ans - In Python, a generator is a special kind of function that allows you to iterate over a sequence of values one at a time, without creating the entire list all at once. It’s like a function that can pause and resume, giving you the next value only when you ask for it. This makes generators memory efficient.\n",
        "\n",
        "  In Python, generators are defined using a function with the yield keyword instead of return. The yield keyword makes the function a generator, allowing it to produce a sequence of values one at a time as needed, rather than returning all values at once.\n",
        "- Function with yield: A generator is defined by creating a function with the yield statement. When the function is called, it doesn't execute immediately. Instead, it returns a generator object that can be used to generate values one by one.\n",
        "- Pauses and Resumes: Every time the function hits the yield statement, it returns the value and pauses the function. The state of the function is saved, so when you ask for the next value, it resumes from where it left off."
      ],
      "metadata": {
        "id": "C6CG2J-IeMH3"
      }
    },
    {
      "cell_type": "code",
      "source": [
        "def count_up_to(max):\n",
        "    count = 1\n",
        "    while count <= max:\n",
        "        yield count  # Yielding the current count value\n",
        "        count += 1\n"
      ],
      "metadata": {
        "id": "JqSCAL9Ze_sD"
      },
      "execution_count": 23,
      "outputs": []
    },
    {
      "cell_type": "code",
      "source": [
        "counter = count_up_to(3)  # Create the generator\n",
        "\n",
        "print(next(counter))  # Output: 1\n",
        "print(next(counter))  # Output: 2\n",
        "print(next(counter))  # Output: 3\n"
      ],
      "metadata": {
        "colab": {
          "base_uri": "https://localhost:8080/"
        },
        "id": "W_x0m0oDfCkF",
        "outputId": "41c6bd56-2f5e-4d87-9684-5f51e8676356"
      },
      "execution_count": 24,
      "outputs": [
        {
          "output_type": "stream",
          "name": "stdout",
          "text": [
            "1\n",
            "2\n",
            "3\n"
          ]
        }
      ]
    },
    {
      "cell_type": "markdown",
      "source": [
        "7. What are the advantages of using generators over regular functions?"
      ],
      "metadata": {
        "id": "i0nh8GoQfIko"
      }
    },
    {
      "cell_type": "markdown",
      "source": [
        "Ans - a. Improved Performance with Large Data       \n",
        "  - Since generators compute values lazily, they allow you to work with large data sets (even infinite sequences) without running out of memory.\n",
        "  - Regular functions that return a full list or collection can slow down your program and consume lots of memory if the data is large.  \n",
        "\n",
        "b. Memory Efficiency -                                                       \n",
        "  - Generators only produce one value at a time when needed, rather than generating and storing all values in memory at once. This makes them very memory-efficient, especially when working with large datasets or infinite sequences.\n",
        "  - Regular functions that return a list or other collection (e.g., return [1, 2, 3]) create the entire collection in memory, which can be costly when dealing with large amounts of data.\n",
        "\n",
        "c. Lazy Evaluation-                                                          \n",
        "  \n",
        "  - Generators use lazy evaluation, meaning they compute values only when required (on-demand). They don't compute or store all values upfront.\n",
        "  - Regular functions that return collections (like lists or tuples) compute and store all values at once, which can be inefficient when you only need to process a few values.\n",
        "\n",
        "d.Cleaner Code -                                                             \n",
        "\n",
        "- Generators can simplify code when dealing with large data transformations or streaming data. You don’t need to manually manage the state or handle large intermediate data structures. The generator handles both the state and iteration automatically.\n",
        "\n",
        "- Regular functions can require more complicated logic to handle these cases, especially when working with large or infinite datasets.                      \n",
        "\n",
        "e. Composability with Other Generators-          \n",
        "- You can chain generators or combine them in pipelines, which allows you to break down complex operations into smaller, manageable steps without needing to create large intermediate collections.\n",
        "\n",
        "- Regular functions that return full collections often involve creating intermediate data structures, which can make the code more complex and less efficient.                              "
      ],
      "metadata": {
        "id": "A_AZHM78fPXo"
      }
    },
    {
      "cell_type": "code",
      "source": [
        "def filter_even(numbers):\n",
        "    for num in numbers:\n",
        "        if num % 2 == 0:\n",
        "            yield num\n",
        "\n",
        "def square(numbers):\n",
        "    for num in numbers:\n",
        "        yield num ** 2\n",
        "\n",
        "nums = range(1, 10)\n",
        "result = square(filter_even(nums))  # Chaining generators\n",
        "\n",
        "for num in result:\n",
        "    print(num)  # Output: 4, 16, 36, 64\n"
      ],
      "metadata": {
        "colab": {
          "base_uri": "https://localhost:8080/"
        },
        "id": "Rd34dph2ys-p",
        "outputId": "d564061a-6b8c-40fd-860d-c303bb5b0d71"
      },
      "execution_count": 25,
      "outputs": [
        {
          "output_type": "stream",
          "name": "stdout",
          "text": [
            "4\n",
            "16\n",
            "36\n",
            "64\n"
          ]
        }
      ]
    },
    {
      "cell_type": "markdown",
      "source": [
        "8.  What is a lambda function in Python and when is it typically used?"
      ],
      "metadata": {
        "id": "PKwyM6_3yxVO"
      }
    },
    {
      "cell_type": "markdown",
      "source": [
        "Ans- A lambda function in Python is a small, anonymous function defined using the lambda keyword. Lambda functions are often used for short, simple operations where a full function definition (using def) might seem unnecessary.\n",
        "Syntax:\n",
        "\n",
        "- lambda: The keyword that defines the function.\n",
        "- arguments: A list of input parameters (like parameters in a normal function).\n",
        "- expression: A single expression that is evaluated and returned when the lambda function is called.                                                     \n",
        "\n",
        "Uses-                                                                         \n",
        "  - Lambda functions are typically used in situations where a small function is needed for a short period of time and defining a full function would feel unnecessarily verbose. They are especially useful when passing functions as arguments to higher-order functions like map(), filter(), and sorted().\n",
        "   -  Short, One-Off Functions: If you only need a small function for a short task, a lambda is a quick and convenient way to define it.                  \n",
        "   "
      ],
      "metadata": {
        "id": "VeWjidePzMiz"
      }
    },
    {
      "cell_type": "code",
      "source": [
        "# A lambda function for squaring a number\n",
        "square = lambda x: x ** 2\n",
        "print(square(4))  # Output: 16\n",
        "\n"
      ],
      "metadata": {
        "colab": {
          "base_uri": "https://localhost:8080/"
        },
        "id": "aG-cP3Q90fgT",
        "outputId": "2641be4d-31bb-420d-b556-b444bb23598c"
      },
      "execution_count": 26,
      "outputs": [
        {
          "output_type": "stream",
          "name": "stdout",
          "text": [
            "16\n"
          ]
        }
      ]
    },
    {
      "cell_type": "markdown",
      "source": [
        "  - Passing Functions as Arguments: You can use lambda functions where a function is required as an argument, especially in functions like map(), filter(), and sorted()."
      ],
      "metadata": {
        "id": "Q9VH8n6i0jJd"
      }
    },
    {
      "cell_type": "code",
      "source": [
        "# Using lambda with sorted() to sort by the second item in a tuple\n",
        "items = [(1, 2), (3, 1), (5, 3)]\n",
        "sorted_items = sorted(items, key=lambda x: x[1])\n",
        "print(sorted_items)  # Output: [(3, 1), (1, 2), (5, 3)]\n"
      ],
      "metadata": {
        "colab": {
          "base_uri": "https://localhost:8080/"
        },
        "id": "4fl0o9w60wKj",
        "outputId": "055b00eb-fabd-43c9-dc39-364d4a131489"
      },
      "execution_count": 27,
      "outputs": [
        {
          "output_type": "stream",
          "name": "stdout",
          "text": [
            "[(3, 1), (1, 2), (5, 3)]\n"
          ]
        }
      ]
    },
    {
      "cell_type": "markdown",
      "source": [
        "- With map(), filter(), and reduce(): Lambda functions are often used with these built-in functions to apply operations on lists or other iterables."
      ],
      "metadata": {
        "id": "stB0zgYA0ynu"
      }
    },
    {
      "cell_type": "code",
      "source": [
        "numbers = [1, 2, 3, 4]\n",
        "squares = map(lambda x: x ** 2, numbers)\n",
        "print(list(squares))  # Output: [1, 4, 9, 16]\n"
      ],
      "metadata": {
        "colab": {
          "base_uri": "https://localhost:8080/"
        },
        "id": "rwM-j-WZ03G5",
        "outputId": "5c707db1-a792-4fef-970b-1301cbc9bc9b"
      },
      "execution_count": 28,
      "outputs": [
        {
          "output_type": "stream",
          "name": "stdout",
          "text": [
            "[1, 4, 9, 16]\n"
          ]
        }
      ]
    },
    {
      "cell_type": "markdown",
      "source": [
        "- In sorted(): You can use lambda with sorted() to define a custom sorting order."
      ],
      "metadata": {
        "id": "18fjDoPK09Hv"
      }
    },
    {
      "cell_type": "code",
      "source": [
        "items = [(1, 'apple'), (3, 'banana'), (2, 'cherry')]\n",
        "sorted_items = sorted(items, key=lambda x: x[1])  # Sort by the second element (fruit name)\n",
        "print(sorted_items)  # Output: [(1, 'apple'), (3, 'banana'), (2, 'cherry')]\n"
      ],
      "metadata": {
        "colab": {
          "base_uri": "https://localhost:8080/"
        },
        "id": "odkZpeNC1A3N",
        "outputId": "f58ea18d-e7c3-4ad9-ad66-76f9c5cde1ba"
      },
      "execution_count": 29,
      "outputs": [
        {
          "output_type": "stream",
          "name": "stdout",
          "text": [
            "[(1, 'apple'), (3, 'banana'), (2, 'cherry')]\n"
          ]
        }
      ]
    },
    {
      "cell_type": "markdown",
      "source": [
        "9.  Explain the purpose and usage of the `map()` function in Python."
      ],
      "metadata": {
        "id": "__c8eQXt1Da4"
      }
    },
    {
      "cell_type": "markdown",
      "source": [
        "Ans- The map() function in Python is a powerful built-in function used for applying a given function to each item in one or more iterables (such as lists, tuples, etc.). The main purpose of map() is to transform data by performing an operation on every element in the provided iterable(s) and returning a new iterable containing the results of that transformation.                        \n",
        "\n",
        " use -                                                                     \n",
        "  a. Applying a Function to All Elements in a List:                           \n",
        "  \n",
        "  The most common use case of map() is applying a function to each item in an iterable (like a list or tuple) to transform the data.     "
      ],
      "metadata": {
        "id": "OyuFe1fW1Li5"
      }
    },
    {
      "cell_type": "code",
      "source": [
        "# Define a function to square a number\n",
        "def square(x):\n",
        "    return x ** 2\n",
        "\n",
        "# List of numbers\n",
        "numbers = [1, 2, 3, 4, 5]\n",
        "\n",
        "# Using map() to apply the square function to each number\n",
        "squared_numbers = map(square, numbers)\n",
        "\n",
        "# Convert the map object to a list and print it\n",
        "print(list(squared_numbers))  # Output: [1, 4, 9, 16, 25]\n"
      ],
      "metadata": {
        "colab": {
          "base_uri": "https://localhost:8080/"
        },
        "id": "3iyyEHg686Ky",
        "outputId": "8e11aa01-9824-49f7-d0d0-232dda26e612"
      },
      "execution_count": 30,
      "outputs": [
        {
          "output_type": "stream",
          "name": "stdout",
          "text": [
            "[1, 4, 9, 16, 25]\n"
          ]
        }
      ]
    },
    {
      "cell_type": "markdown",
      "source": [
        "b. Using map() with a Lambda Function:                                         \n",
        "\n",
        "Instead of defining a function using def, you can use a lambda function for short, one-line functions within map(). This can make the code more concise."
      ],
      "metadata": {
        "id": "lEhRJmhc89OK"
      }
    },
    {
      "cell_type": "code",
      "source": [
        "# List of numbers\n",
        "numbers = [1, 2, 3, 4, 5]\n",
        "\n",
        "# Using map with a lambda function to square each number\n",
        "squared_numbers = map(lambda x: x ** 2, numbers)\n",
        "\n",
        "# Convert the map object to a list and print it\n",
        "print(list(squared_numbers))  # Output: [1, 4, 9, 16, 25]\n"
      ],
      "metadata": {
        "colab": {
          "base_uri": "https://localhost:8080/"
        },
        "id": "vPvXgyBp9KTb",
        "outputId": "82af20fa-5db0-4dea-98d2-1a5929ef8a2e"
      },
      "execution_count": 31,
      "outputs": [
        {
          "output_type": "stream",
          "name": "stdout",
          "text": [
            "[1, 4, 9, 16, 25]\n"
          ]
        }
      ]
    },
    {
      "cell_type": "markdown",
      "source": [
        "c. Applying map() to Multiple Iterables:                                    \n",
        " You can pass more than one iterable to map(). When multiple iterables are provided, the function is applied to the corresponding items from each iterable."
      ],
      "metadata": {
        "id": "Li7GDcN49OPK"
      }
    },
    {
      "cell_type": "code",
      "source": [
        "# Function to add two numbers\n",
        "def add(x, y):\n",
        "    return x + y\n",
        "\n",
        "# Two lists of numbers\n",
        "list1 = [1, 2, 3]\n",
        "list2 = [4, 5, 6]\n",
        "\n",
        "# Using map to apply the add function to each pair of elements from the two lists\n",
        "sum_list = map(add, list1, list2)\n",
        "\n",
        "# Convert the map object to a list and print it\n",
        "print(list(sum_list))  # Output: [5, 7, 9]\n"
      ],
      "metadata": {
        "colab": {
          "base_uri": "https://localhost:8080/"
        },
        "id": "AUstRDlL9Wt9",
        "outputId": "4cd48dda-4cb8-4705-a5ff-e25b4b73fbf0"
      },
      "execution_count": 32,
      "outputs": [
        {
          "output_type": "stream",
          "name": "stdout",
          "text": [
            "[5, 7, 9]\n"
          ]
        }
      ]
    },
    {
      "cell_type": "markdown",
      "source": [
        "d.  Transforming Data Types Using map():                                      \n",
        "\n",
        "You can use map() to convert data from one type to another. For instance, converting a list of strings to integers."
      ],
      "metadata": {
        "id": "q7WueiS29eNu"
      }
    },
    {
      "cell_type": "code",
      "source": [
        "# List of strings\n",
        "str_numbers = ['1', '2', '3', '4', '5']\n",
        "\n",
        "# Using map to convert the strings to integers\n",
        "numbers = map(int, str_numbers)\n",
        "\n",
        "# Convert the map object to a list and print it\n",
        "print(list(numbers))  # Output: [1, 2, 3, 4, 5]\n"
      ],
      "metadata": {
        "colab": {
          "base_uri": "https://localhost:8080/"
        },
        "id": "EK3zMXvu9jLP",
        "outputId": "754fe4cb-626e-4e25-b83c-9e76e893835b"
      },
      "execution_count": 33,
      "outputs": [
        {
          "output_type": "stream",
          "name": "stdout",
          "text": [
            "[1, 2, 3, 4, 5]\n"
          ]
        }
      ]
    },
    {
      "cell_type": "markdown",
      "source": [
        "10. What is the difference between `map()`, `reduce()`, and `filter()` functions in Python?"
      ],
      "metadata": {
        "id": "3XsrK7F69mcl"
      }
    },
    {
      "cell_type": "markdown",
      "source": [
        "Ans - a. map()Function:                                                                 \n",
        "- Purpose: The map() function is used to apply a given function to each item of an iterable (like a list or tuple) and returns an iterator that produces the transformed items.\n",
        "- Usage: It is typically used when you want to transform or modify each element in an iterable.\n",
        "- Return Type: It returns an iterator, which can be converted into a list, tuple, etc.\n",
        "- How it works: map() takes two arguments:\n",
        "- A function that is applied to each element.\n",
        "- One or more iterables (e.g., a list or tuple) to which the function will be applied.                                                             \n",
        "\n",
        "b. reduce() Function:                                                         \n",
        "- Purpose: The reduce() function is used to apply a given function cumulatively to the items of an iterable, reducing the iterable to a single accumulated result.\n",
        "- Usage: It is used when you want to combine or aggregate elements of an iterable into a single result (e.g., summing numbers, multiplying all elements).\n",
        "- Return Type: It returns a single value (the result of reducing the iterable).\n",
        "- How it works: reduce() takes two arguments:\n",
        "- A function that takes two arguments (used to combine the elements).\n",
        "- An iterable to process.                                                \n",
        "\n",
        "c. filter() Function:                                                      \n",
        "\n",
        "- Purpose: The filter() function is used to filter out elements from an iterable based on a condition (function). It only includes the items for which the function returns True.\n",
        "- Usage: It is used when you want to filter an iterable based on some condition, keeping only those elements that meet a certain criterion.\n",
        "- Return Type: It returns an iterator that produces the filtered results, which can be converted to a list, tuple, etc.\n",
        "- How it works: filter() takes two arguments:\n",
        "- A function that returns either True or False (predicate function).\n",
        "- An iterable to filter."
      ],
      "metadata": {
        "id": "9GIkrfdE9q1D"
      }
    },
    {
      "cell_type": "code",
      "source": [
        "numbers = [1, 2, 3, 4, 5, 6]\n",
        "\n",
        "# Step 1: Squaring each number using map()\n",
        "squared_numbers = map(lambda x: x ** 2, numbers)\n",
        "print(list(squared_numbers))  # Output: [1, 4, 9, 16, 25, 36]\n",
        "\n",
        "# Step 2: Summing all the numbers using reduce()\n",
        "from functools import reduce\n",
        "total_sum = reduce(lambda x, y: x + y, numbers)\n",
        "print(total_sum)  # Output: 21\n",
        "\n",
        "# Step 3: Filtering out only even numbers using filter()\n",
        "even_numbers = filter(lambda x: x % 2 == 0, numbers)\n",
        "print(list(even_numbers))  # Output: [2, 4, 6]\n"
      ],
      "metadata": {
        "colab": {
          "base_uri": "https://localhost:8080/"
        },
        "id": "w-Hk78j4-w3s",
        "outputId": "d9e342d5-a39e-4929-c45a-105d55ba7cc7"
      },
      "execution_count": 34,
      "outputs": [
        {
          "output_type": "stream",
          "name": "stdout",
          "text": [
            "[1, 4, 9, 16, 25, 36]\n",
            "21\n",
            "[2, 4, 6]\n"
          ]
        }
      ]
    },
    {
      "cell_type": "markdown",
      "source": [
        "11. Using pen & Paper write the internal mechanism for sum operation using  reduce function on this given\n",
        "list:[47,11,42,13];"
      ],
      "metadata": {
        "id": "l7g0TiQy-zMz"
      }
    },
    {
      "cell_type": "markdown",
      "source": [
        "Ans- ![WhatsApp Image 2025-04-01 at 9.55.28 PM.jpeg](data:image/jpeg;base64,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)"
      ],
      "metadata": {
        "id": "ovRFJ4dGLS9X"
      }
    },
    {
      "cell_type": "markdown",
      "source": [
        "#PRATICAL QUESTIONS:"
      ],
      "metadata": {
        "id": "YEK4yAvdLqFs"
      }
    },
    {
      "cell_type": "markdown",
      "source": [
        "1. Write a Python function that takes a list of numbers as input and returns the sum of all even numbers in\n",
        "the list."
      ],
      "metadata": {
        "id": "5G24PBKpLvn7"
      }
    },
    {
      "cell_type": "code",
      "source": [
        "def sum_of_even_numbers(numbers):\n",
        "    # Using list comprehension to filter even numbers and sum them up\n",
        "    return sum(num for num in numbers if num % 2 == 0)\n",
        "\n",
        "# Example usage:\n",
        "numbers = [63, 51, 92, 11, 21, 50]\n",
        "result = sum_of_even_numbers(numbers)\n",
        "print(result)  # Output: 80 (92 + 50)\n"
      ],
      "metadata": {
        "colab": {
          "base_uri": "https://localhost:8080/"
        },
        "id": "WH4nuNaILy08",
        "outputId": "27257772-2d4e-4413-b185-5a778b3f5fa5"
      },
      "execution_count": 37,
      "outputs": [
        {
          "output_type": "stream",
          "name": "stdout",
          "text": [
            "142\n"
          ]
        }
      ]
    },
    {
      "cell_type": "markdown",
      "source": [
        "2. . Create a Python function that accepts a string and returns the reverse of that string."
      ],
      "metadata": {
        "id": "WTxvPpRAMRnG"
      }
    },
    {
      "cell_type": "code",
      "source": [
        "def reverse_string(s):\n",
        "    reversed_str = \"\"\n",
        "    # Loop through the string in reverse order and build the reversed string\n",
        "    for char in s:\n",
        "        reversed_str = char + reversed_str\n",
        "    return reversed_str\n",
        "\n",
        "# Example usage:\n",
        "input_string = \"Hello, World!\"\n",
        "result = reverse_string(input_string)\n",
        "print(result)  # Output: \"!dlroW ,olleH\"\n"
      ],
      "metadata": {
        "colab": {
          "base_uri": "https://localhost:8080/"
        },
        "id": "lFc51T--MVVj",
        "outputId": "ca8ad2a6-a416-4682-af9d-f83650cce491"
      },
      "execution_count": 38,
      "outputs": [
        {
          "output_type": "stream",
          "name": "stdout",
          "text": [
            "!dlroW ,olleH\n"
          ]
        }
      ]
    },
    {
      "cell_type": "markdown",
      "source": [
        "3.  Implement a Python function that takes a list of integers and returns a new list containing the squares of\n",
        "each number"
      ],
      "metadata": {
        "id": "JYduRdiSMq0O"
      }
    },
    {
      "cell_type": "code",
      "source": [
        "def square_numbers(numbers):\n",
        "    # Using map and lambda to square each number in the list\n",
        "    return list(map(lambda x: x ** 2, numbers))\n",
        "\n",
        "# Example usage:\n",
        "input_numbers = [6, 3, 9, 12, 4]\n",
        "result = square_numbers(input_numbers)\n",
        "print(result)  # Output: [36, 9, 81, 144, 16]\n"
      ],
      "metadata": {
        "colab": {
          "base_uri": "https://localhost:8080/"
        },
        "id": "IY2W02g5MuLy",
        "outputId": "3ec2b44d-e10d-430c-ecbb-c24d2d413934"
      },
      "execution_count": 39,
      "outputs": [
        {
          "output_type": "stream",
          "name": "stdout",
          "text": [
            "[36, 9, 81, 144, 16]\n"
          ]
        }
      ]
    },
    {
      "cell_type": "markdown",
      "source": [
        "4.  Write a Python function that checks if a given number is prime or not from 1 to 200."
      ],
      "metadata": {
        "id": "D1qUQQ-HNHuG"
      }
    },
    {
      "cell_type": "code",
      "source": [
        "def is_prime(number):\n",
        "    # Return False if number is less than 2\n",
        "    if number < 2:\n",
        "        return False\n",
        "\n",
        "    # Using list comprehension with all() to check if the number has any divisors\n",
        "    return all(number % i != 0 for i in range(2, int(number**0.5) + 1))\n",
        "\n",
        "# Example usage: Check numbers from 1 to 200\n",
        "for num in range(1, 201):\n",
        "    if is_prime(num):\n",
        "        print(f\"{num} is prime.\")\n"
      ],
      "metadata": {
        "colab": {
          "base_uri": "https://localhost:8080/"
        },
        "id": "MnOwJyGVNXA6",
        "outputId": "f51edc78-8029-4dfc-f306-966f94fc9efe"
      },
      "execution_count": 40,
      "outputs": [
        {
          "output_type": "stream",
          "name": "stdout",
          "text": [
            "2 is prime.\n",
            "3 is prime.\n",
            "5 is prime.\n",
            "7 is prime.\n",
            "11 is prime.\n",
            "13 is prime.\n",
            "17 is prime.\n",
            "19 is prime.\n",
            "23 is prime.\n",
            "29 is prime.\n",
            "31 is prime.\n",
            "37 is prime.\n",
            "41 is prime.\n",
            "43 is prime.\n",
            "47 is prime.\n",
            "53 is prime.\n",
            "59 is prime.\n",
            "61 is prime.\n",
            "67 is prime.\n",
            "71 is prime.\n",
            "73 is prime.\n",
            "79 is prime.\n",
            "83 is prime.\n",
            "89 is prime.\n",
            "97 is prime.\n",
            "101 is prime.\n",
            "103 is prime.\n",
            "107 is prime.\n",
            "109 is prime.\n",
            "113 is prime.\n",
            "127 is prime.\n",
            "131 is prime.\n",
            "137 is prime.\n",
            "139 is prime.\n",
            "149 is prime.\n",
            "151 is prime.\n",
            "157 is prime.\n",
            "163 is prime.\n",
            "167 is prime.\n",
            "173 is prime.\n",
            "179 is prime.\n",
            "181 is prime.\n",
            "191 is prime.\n",
            "193 is prime.\n",
            "197 is prime.\n",
            "199 is prime.\n"
          ]
        }
      ]
    },
    {
      "cell_type": "markdown",
      "source": [
        "5.  Create an iterator class in Python that generates the Fibonacci sequence up to a specified number of\n",
        "terms."
      ],
      "metadata": {
        "id": "pBuR5vm8Nb8-"
      }
    },
    {
      "cell_type": "code",
      "source": [
        "class FibonacciIterator:\n",
        "    def __init__(self, terms):\n",
        "        self.terms = terms\n",
        "\n",
        "    def __iter__(self):\n",
        "        a, b = 0, 1\n",
        "        count = 0\n",
        "        while count < self.terms:\n",
        "            yield a  # Yield the current Fibonacci number\n",
        "            a, b = b, a + b  # Move to the next Fibonacci numbers\n",
        "            count += 1\n",
        "\n",
        "\n",
        "# Example usage:\n",
        "fib = FibonacciIterator(10)  # Generate first 10 Fibonacci numbers\n",
        "for num in fib:\n",
        "    print(num)\n"
      ],
      "metadata": {
        "colab": {
          "base_uri": "https://localhost:8080/"
        },
        "id": "TX8CV-3nNfs9",
        "outputId": "a8349c0f-59a8-40c3-927b-5efdbb1d447b"
      },
      "execution_count": 41,
      "outputs": [
        {
          "output_type": "stream",
          "name": "stdout",
          "text": [
            "0\n",
            "1\n",
            "1\n",
            "2\n",
            "3\n",
            "5\n",
            "8\n",
            "13\n",
            "21\n",
            "34\n"
          ]
        }
      ]
    },
    {
      "cell_type": "markdown",
      "source": [
        "6.  Write a generator function in Python that yields the powers of 2 up to a given exponent."
      ],
      "metadata": {
        "id": "Rw-RnEfWNxC0"
      }
    },
    {
      "cell_type": "code",
      "source": [
        "def powers_of_two():\n",
        "    def generator(exponent):\n",
        "        value = 1\n",
        "        for _ in range(exponent + 1):\n",
        "            yield value\n",
        "            value *= 2\n",
        "    return generator\n",
        "\n"
      ],
      "metadata": {
        "id": "Z4FkJ7iQN05n"
      },
      "execution_count": 42,
      "outputs": []
    },
    {
      "cell_type": "code",
      "source": [
        "# Get the generator function\n",
        "gen = powers_of_two()\n",
        "\n",
        "# Use the generator for a specific exponent\n",
        "for power in gen(3):\n",
        "    print(power)\n"
      ],
      "metadata": {
        "colab": {
          "base_uri": "https://localhost:8080/"
        },
        "id": "RPGYulOdOV-1",
        "outputId": "e42125c3-34cd-4461-a6a2-a1ad9c2b4784"
      },
      "execution_count": 44,
      "outputs": [
        {
          "output_type": "stream",
          "name": "stdout",
          "text": [
            "1\n",
            "2\n",
            "4\n",
            "8\n"
          ]
        }
      ]
    },
    {
      "cell_type": "markdown",
      "source": [
        "7.  Implement a generator function that reads a file line by line and yields each line as a string"
      ],
      "metadata": {
        "id": "R0A8nRjvOfFS"
      }
    },
    {
      "cell_type": "code",
      "source": [
        "from google.colab import files\n",
        "uploaded = files.upload()\n",
        "\n"
      ],
      "metadata": {
        "colab": {
          "base_uri": "https://localhost:8080/",
          "height": 73
        },
        "id": "1m7JeWntuK8y",
        "outputId": "eb3a1f4d-cd35-46b7-cae2-652423d3e443"
      },
      "execution_count": 26,
      "outputs": [
        {
          "output_type": "display_data",
          "data": {
            "text/plain": [
              "<IPython.core.display.HTML object>"
            ],
            "text/html": [
              "\n",
              "     <input type=\"file\" id=\"files-767458c8-8e0e-42bb-89ca-bfe1b833d538\" name=\"files[]\" multiple disabled\n",
              "        style=\"border:none\" />\n",
              "     <output id=\"result-767458c8-8e0e-42bb-89ca-bfe1b833d538\">\n",
              "      Upload widget is only available when the cell has been executed in the\n",
              "      current browser session. Please rerun this cell to enable.\n",
              "      </output>\n",
              "      <script>// Copyright 2017 Google LLC\n",
              "//\n",
              "// Licensed under the Apache License, Version 2.0 (the \"License\");\n",
              "// you may not use this file except in compliance with the License.\n",
              "// You may obtain a copy of the License at\n",
              "//\n",
              "//      http://www.apache.org/licenses/LICENSE-2.0\n",
              "//\n",
              "// Unless required by applicable law or agreed to in writing, software\n",
              "// distributed under the License is distributed on an \"AS IS\" BASIS,\n",
              "// WITHOUT WARRANTIES OR CONDITIONS OF ANY KIND, either express or implied.\n",
              "// See the License for the specific language governing permissions and\n",
              "// limitations under the License.\n",
              "\n",
              "/**\n",
              " * @fileoverview Helpers for google.colab Python module.\n",
              " */\n",
              "(function(scope) {\n",
              "function span(text, styleAttributes = {}) {\n",
              "  const element = document.createElement('span');\n",
              "  element.textContent = text;\n",
              "  for (const key of Object.keys(styleAttributes)) {\n",
              "    element.style[key] = styleAttributes[key];\n",
              "  }\n",
              "  return element;\n",
              "}\n",
              "\n",
              "// Max number of bytes which will be uploaded at a time.\n",
              "const MAX_PAYLOAD_SIZE = 100 * 1024;\n",
              "\n",
              "function _uploadFiles(inputId, outputId) {\n",
              "  const steps = uploadFilesStep(inputId, outputId);\n",
              "  const outputElement = document.getElementById(outputId);\n",
              "  // Cache steps on the outputElement to make it available for the next call\n",
              "  // to uploadFilesContinue from Python.\n",
              "  outputElement.steps = steps;\n",
              "\n",
              "  return _uploadFilesContinue(outputId);\n",
              "}\n",
              "\n",
              "// This is roughly an async generator (not supported in the browser yet),\n",
              "// where there are multiple asynchronous steps and the Python side is going\n",
              "// to poll for completion of each step.\n",
              "// This uses a Promise to block the python side on completion of each step,\n",
              "// then passes the result of the previous step as the input to the next step.\n",
              "function _uploadFilesContinue(outputId) {\n",
              "  const outputElement = document.getElementById(outputId);\n",
              "  const steps = outputElement.steps;\n",
              "\n",
              "  const next = steps.next(outputElement.lastPromiseValue);\n",
              "  return Promise.resolve(next.value.promise).then((value) => {\n",
              "    // Cache the last promise value to make it available to the next\n",
              "    // step of the generator.\n",
              "    outputElement.lastPromiseValue = value;\n",
              "    return next.value.response;\n",
              "  });\n",
              "}\n",
              "\n",
              "/**\n",
              " * Generator function which is called between each async step of the upload\n",
              " * process.\n",
              " * @param {string} inputId Element ID of the input file picker element.\n",
              " * @param {string} outputId Element ID of the output display.\n",
              " * @return {!Iterable<!Object>} Iterable of next steps.\n",
              " */\n",
              "function* uploadFilesStep(inputId, outputId) {\n",
              "  const inputElement = document.getElementById(inputId);\n",
              "  inputElement.disabled = false;\n",
              "\n",
              "  const outputElement = document.getElementById(outputId);\n",
              "  outputElement.innerHTML = '';\n",
              "\n",
              "  const pickedPromise = new Promise((resolve) => {\n",
              "    inputElement.addEventListener('change', (e) => {\n",
              "      resolve(e.target.files);\n",
              "    });\n",
              "  });\n",
              "\n",
              "  const cancel = document.createElement('button');\n",
              "  inputElement.parentElement.appendChild(cancel);\n",
              "  cancel.textContent = 'Cancel upload';\n",
              "  const cancelPromise = new Promise((resolve) => {\n",
              "    cancel.onclick = () => {\n",
              "      resolve(null);\n",
              "    };\n",
              "  });\n",
              "\n",
              "  // Wait for the user to pick the files.\n",
              "  const files = yield {\n",
              "    promise: Promise.race([pickedPromise, cancelPromise]),\n",
              "    response: {\n",
              "      action: 'starting',\n",
              "    }\n",
              "  };\n",
              "\n",
              "  cancel.remove();\n",
              "\n",
              "  // Disable the input element since further picks are not allowed.\n",
              "  inputElement.disabled = true;\n",
              "\n",
              "  if (!files) {\n",
              "    return {\n",
              "      response: {\n",
              "        action: 'complete',\n",
              "      }\n",
              "    };\n",
              "  }\n",
              "\n",
              "  for (const file of files) {\n",
              "    const li = document.createElement('li');\n",
              "    li.append(span(file.name, {fontWeight: 'bold'}));\n",
              "    li.append(span(\n",
              "        `(${file.type || 'n/a'}) - ${file.size} bytes, ` +\n",
              "        `last modified: ${\n",
              "            file.lastModifiedDate ? file.lastModifiedDate.toLocaleDateString() :\n",
              "                                    'n/a'} - `));\n",
              "    const percent = span('0% done');\n",
              "    li.appendChild(percent);\n",
              "\n",
              "    outputElement.appendChild(li);\n",
              "\n",
              "    const fileDataPromise = new Promise((resolve) => {\n",
              "      const reader = new FileReader();\n",
              "      reader.onload = (e) => {\n",
              "        resolve(e.target.result);\n",
              "      };\n",
              "      reader.readAsArrayBuffer(file);\n",
              "    });\n",
              "    // Wait for the data to be ready.\n",
              "    let fileData = yield {\n",
              "      promise: fileDataPromise,\n",
              "      response: {\n",
              "        action: 'continue',\n",
              "      }\n",
              "    };\n",
              "\n",
              "    // Use a chunked sending to avoid message size limits. See b/62115660.\n",
              "    let position = 0;\n",
              "    do {\n",
              "      const length = Math.min(fileData.byteLength - position, MAX_PAYLOAD_SIZE);\n",
              "      const chunk = new Uint8Array(fileData, position, length);\n",
              "      position += length;\n",
              "\n",
              "      const base64 = btoa(String.fromCharCode.apply(null, chunk));\n",
              "      yield {\n",
              "        response: {\n",
              "          action: 'append',\n",
              "          file: file.name,\n",
              "          data: base64,\n",
              "        },\n",
              "      };\n",
              "\n",
              "      let percentDone = fileData.byteLength === 0 ?\n",
              "          100 :\n",
              "          Math.round((position / fileData.byteLength) * 100);\n",
              "      percent.textContent = `${percentDone}% done`;\n",
              "\n",
              "    } while (position < fileData.byteLength);\n",
              "  }\n",
              "\n",
              "  // All done.\n",
              "  yield {\n",
              "    response: {\n",
              "      action: 'complete',\n",
              "    }\n",
              "  };\n",
              "}\n",
              "\n",
              "scope.google = scope.google || {};\n",
              "scope.google.colab = scope.google.colab || {};\n",
              "scope.google.colab._files = {\n",
              "  _uploadFiles,\n",
              "  _uploadFilesContinue,\n",
              "};\n",
              "})(self);\n",
              "</script> "
            ]
          },
          "metadata": {}
        },
        {
          "output_type": "stream",
          "name": "stdout",
          "text": [
            "Saving roshanpatra.txt to roshanpatra.txt\n"
          ]
        }
      ]
    },
    {
      "cell_type": "code",
      "source": [
        "def read_file_as_string(filename):\n",
        "  # Try opening the file with 'latin-1' encoding instead of 'utf-8'\n",
        "  with open(filename, 'r', encoding='latin-1') as f:\n",
        "      yield from f\n",
        "\n",
        "# Call the function and print the list of lines\n",
        "print(list(read_file_as_string(\"roshanpatra.txt\")))"
      ],
      "metadata": {
        "colab": {
          "base_uri": "https://localhost:8080/"
        },
        "id": "WDKJniA1ReK7",
        "outputId": "678a3e6f-0a52-43d0-a5ef-2aff231ecf5e"
      },
      "execution_count": 27,
      "outputs": [
        {
          "output_type": "stream",
          "name": "stdout",
          "text": [
            "['My name is Roshan Kumar patra.\\n', 'I am from Odisha.']\n"
          ]
        }
      ]
    },
    {
      "cell_type": "markdown",
      "source": [
        "8. Use a lambda function in Python to sort a list of tuples based on the second element of each tuple"
      ],
      "metadata": {
        "id": "hIGl-5npenU7"
      }
    },
    {
      "cell_type": "code",
      "source": [
        "# List of tuples\n",
        "tuple_list = [(1, 'banana'), (3, 'apple'), (2, 'cherry')]\n",
        "\n",
        "# Sort the list of tuples based on the second element of each tuple\n",
        "sorted_list = sorted(tuple_list, key=lambda x: x[1])\n",
        "\n",
        "# Print the sorted list\n",
        "print(sorted_list)\n"
      ],
      "metadata": {
        "colab": {
          "base_uri": "https://localhost:8080/"
        },
        "id": "Jh9viFBfeqS5",
        "outputId": "935bead1-fb25-415a-dcfe-e58827709d30"
      },
      "execution_count": 86,
      "outputs": [
        {
          "output_type": "stream",
          "name": "stdout",
          "text": [
            "[(3, 'apple'), (1, 'banana'), (2, 'cherry')]\n"
          ]
        }
      ]
    },
    {
      "cell_type": "markdown",
      "source": [
        "9. Write a Python program that uses `map()` to convert a list of temperatures from Celsius to Fahrenheit."
      ],
      "metadata": {
        "id": "6FXpANQje8hW"
      }
    },
    {
      "cell_type": "code",
      "source": [
        "# List of temperatures in Celsius\n",
        "celsius_temps = [0, 10, 25, 90]\n",
        "\n",
        "# Function to convert Celsius to Fahrenheit\n",
        "def celsius_to_fahrenheit(celsius):\n",
        "    return (celsius * 9/5) + 32\n",
        "\n",
        "# Use map to convert the list of Celsius temperatures to Fahrenheit\n",
        "fahrenheit_temps = list(map(celsius_to_fahrenheit, celsius_temps))\n",
        "\n",
        "# Print the Fahrenheit temperatures\n",
        "print(fahrenheit_temps)\n"
      ],
      "metadata": {
        "colab": {
          "base_uri": "https://localhost:8080/"
        },
        "id": "HzyNPkVpfA1w",
        "outputId": "8ec8153b-17a5-4281-983b-729236684ed7"
      },
      "execution_count": 88,
      "outputs": [
        {
          "output_type": "stream",
          "name": "stdout",
          "text": [
            "[32.0, 50.0, 77.0, 194.0]\n"
          ]
        }
      ]
    },
    {
      "cell_type": "markdown",
      "source": [
        "10.  . Create a Python program that uses `filter()` to remove all the vowels from a given string."
      ],
      "metadata": {
        "id": "Q3xh2f07fNAD"
      }
    },
    {
      "cell_type": "code",
      "source": [
        "# Given string\n",
        "input_string = \"Hello, World!\"\n",
        "\n",
        "# Use filter with a lambda to remove vowels from the string\n",
        "filtered_string = ''.join(filter(lambda char: char.lower() not in 'aeiou', input_string))\n",
        "\n",
        "# Print the resulting string with vowels removed\n",
        "print(filtered_string)\n"
      ],
      "metadata": {
        "colab": {
          "base_uri": "https://localhost:8080/"
        },
        "id": "zydhu2usfRdO",
        "outputId": "45930fd6-9c01-455e-ed44-aab3a4c0cf55"
      },
      "execution_count": 89,
      "outputs": [
        {
          "output_type": "stream",
          "name": "stdout",
          "text": [
            "Hll, Wrld!\n"
          ]
        }
      ]
    },
    {
      "cell_type": "markdown",
      "source": [
        "11.  Imagine an accounting routine used in a book shop. It works on a list with sublists, which look like this:\n",
        "\n",
        "\n",
        "\n",
        "\n",
        "\n",
        "\n",
        "\n",
        "Write a Python program, which returns a list with 2-tuples. Each tuple consists of the order number and the\n",
        "product of the price per item and the quantity. The product should be increased by 10,- € if the value of the\n",
        "order is smaller than 100,00 €.\n",
        "\n",
        "Write a Python program using lambda and map"
      ],
      "metadata": {
        "id": "XRfbzSo9fgN-"
      }
    },
    {
      "cell_type": "code",
      "source": [
        "# List of orders, where each sublist contains:\n",
        "# [Order Number, Book Title and Author, Quantity, Price per Item]\n",
        "orders = [\n",
        "    [34587, \"Learning Python, Mark Lutz\", 4, 40.95],\n",
        "    [98762, \"Programming Python, Mark Lutz\", 5, 56.80],\n",
        "    [77226, \"Head First Python, Paul Barry\", 3, 32.95],\n",
        "    [88112, \"Einführung in Python3, Bernd Klein\", 3, 24.99]\n",
        "]\n",
        "\n",
        "# Using lambda and map to process the list and calculate the totals\n",
        "result = list(map(lambda order: (order[0], (order[2] * order[3]) + 10 if (order[2] * order[3]) < 100 else order[2] * order[3]), orders))\n",
        "\n",
        "# Output the result\n",
        "print(result)\n"
      ],
      "metadata": {
        "colab": {
          "base_uri": "https://localhost:8080/"
        },
        "id": "SUG2Xg6jjdme",
        "outputId": "6eadd46d-b8f2-415b-f8d7-dfc49c09c13a"
      },
      "execution_count": 100,
      "outputs": [
        {
          "output_type": "stream",
          "name": "stdout",
          "text": [
            "[(34587, 163.8), (98762, 284.0), (77226, 108.85000000000001), (88112, 84.97)]\n"
          ]
        }
      ]
    }
  ]
}